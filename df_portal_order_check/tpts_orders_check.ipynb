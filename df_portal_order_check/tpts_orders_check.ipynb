{
 "cells": [
  {
   "cell_type": "code",
   "execution_count": 10,
   "metadata": {},
   "outputs": [],
   "source": [
    "import pandas as pd\n",
    "import numpy as np\n",
    "import time\n",
    "import shutil\n",
    "import os\n",
    "import glob\n",
    "import xlwings as xw\n",
    "import argparse\n",
    "from pathlib import Path\n",
    "from datetime import date, timedelta, datetime\n",
    "from selenium import webdriver\n",
    "from selenium.common.exceptions import NoSuchElementException\n",
    "from selenium.webdriver.common.by import By\n",
    "from selenium.webdriver.common.keys import Keys\n",
    "from selenium.webdriver.firefox.options import Options"
   ]
  },
  {
   "cell_type": "markdown",
   "metadata": {},
   "source": []
  },
  {
   "cell_type": "code",
   "execution_count": 23,
   "metadata": {},
   "outputs": [
    {
     "name": "stdout",
     "output_type": "stream",
     "text": [
      "xw: 0.29.1\n",
      "pd: 2.0.3\n",
      "np: 1.24.3\n"
     ]
    },
    {
     "ename": "AttributeError",
     "evalue": "type object 'Path' has no attribute '__version__'",
     "output_type": "error",
     "traceback": [
      "\u001b[1;31m---------------------------------------------------------------------------\u001b[0m",
      "\u001b[1;31mAttributeError\u001b[0m                            Traceback (most recent call last)",
      "Cell \u001b[1;32mIn[23], line 4\u001b[0m\n\u001b[0;32m      2\u001b[0m \u001b[38;5;28mprint\u001b[39m(\u001b[38;5;124m'\u001b[39m\u001b[38;5;124mpd: \u001b[39m\u001b[38;5;124m'\u001b[39m \u001b[38;5;241m+\u001b[39m pd\u001b[38;5;241m.\u001b[39m__version__)\n\u001b[0;32m      3\u001b[0m \u001b[38;5;28mprint\u001b[39m(\u001b[38;5;124m'\u001b[39m\u001b[38;5;124mnp: \u001b[39m\u001b[38;5;124m'\u001b[39m \u001b[38;5;241m+\u001b[39m np\u001b[38;5;241m.\u001b[39m__version__)\n\u001b[1;32m----> 4\u001b[0m Path\u001b[38;5;241m.\u001b[39m__version__\n",
      "\u001b[1;31mAttributeError\u001b[0m: type object 'Path' has no attribute '__version__'"
     ]
    }
   ],
   "source": [
    "print('xw: ' + xw.__version__)\n",
    "print('pd: ' + pd.__version__)\n",
    "print('np: ' + np.__version__)"
   ]
  },
  {
   "cell_type": "markdown",
   "metadata": {},
   "source": [
    "Read xls file then convert it into xlsx file"
   ]
  },
  {
   "cell_type": "code",
   "execution_count": 4,
   "metadata": {},
   "outputs": [
    {
     "name": "stdout",
     "output_type": "stream",
     "text": [
      ",,,,,,,,151,155,161,505,159,160,130,301,153,154,157,133,136,135,134,141,152,175,162,180,178,186,511,509,510,196,304,506,508,524,530,305,541,306,158,556,561,549,565,570,4201,4202,399,220,218,234,240,217,251,293,255,239,404,245,246,403,272,9503,279,625,233,237,212,213,226,228,229,236,410,256,259,261,262,269,277,278,280,286,287,211,214,215,221,225,227,230,238,409,243,244,275,247,249,254,263,267,276,270,281,282,284,289,290,291,294,296,298,400,401,402,405,406,626,629,638,630,631,632,633,636,634,635,637,639,640,641,642,643,644,645,647,648,652,653,655,654,656,657,658,659,665,669,671,661,674,676,678,683,684,690,9302,685,687,691,688,689,692,693,695,696,9303,697,698,2001,2002,2006,9205,2004,2005,9206,2007,2008,2009,2010,2011,9208,2014,2015,2016,694,2017,2018,2019,2021,2033,2023,2025,2027,2028,2029,2030,2031,9210,2032,2034,2035,2039,2041,2043,2042,2040,2045,2046,2047,2048,2051,2052,2056,2057,2059,2060,9309,2063,2064,2065,9311,2066,9313,2069,2072,9314,2073,9315,2074,2075,2076,2077,2078,2079,2080,9502,2085,2086,2087,2088,2089,2091,2082,2092,9318,2093,2094,2095,2096,2097,9319,2098,2100,2101,2102,2103,2104,2105,2106,2107,2108,2109,2110,9322,2111,2112,2113,2114,2115,2116,2117,2119,2120,2121,2123,2124,2125,2126,2128,2129,2130,2131,2132,12701,2134,2135,2136,9324,2137,2138,2141,2142,2143,2145,2146,2147,2148,2149,2150,2151,2152,2153,2154,2155,2156,2157,2158,2159,2160,2161,2162,9325,2163,2164,9326,2165,2166,2167,2168,2169,9214,9215,2170,2171,2172,9327,2174,9328,2175,2176,2177,2178,2179,2180,2181,9329,9330,9331,2182,2183,2184,69020,69024,69026,69066,69068,124,516,503,118,507,539,127,546,131,529,515,176,189,543,526,534,538,563,564,557,123,527,528,138,523,514,513,540,518,114,532,573,199,517,197,533,569,119,520,535,562,574,187,519,542,121,171,170,536,545,144,531,184,147,142,522,120,9402,9405,9406,9408,9409,9413,9414,9419,9421,9422,1471,14702,14201,14202,12001,56201,56202,52201,69011,173,504,566,174,148,140,122,112,571,137,128,547,167,512,150,132,145,572,179,164,502,537,183,185,552,553,554,555,567,14001,12201,12202,12203,12204,12205,12206,12207,12208,12209,12210,12211,12212,12213,12214,54701,15001,15002,15003,15004,15005,15006,53701,18501,18502,18503,18504,18505,18506,9102,9103,9104,9105,9107,9108,9109,9110,9114,9116,9120,9124,9126,9130,9134,9138,9139,9141,9143,9144,9146,9148,9149,9151,9152,9153,9154,9158,9160,9161,9165,18301\n",
      "\n"
     ]
    }
   ],
   "source": [
    "with open('D:\\SGC\\TPTS_Project\\df_portal_order_check\\daily_xls\\DFP_FreshFood_Order_01_04_2024.xls', 'r') as f:\n",
    "    for line in \n",
    "    print(f.readline())"
   ]
  },
  {
   "cell_type": "code",
   "execution_count": 9,
   "metadata": {},
   "outputs": [
    {
     "data": {
      "text/plain": [
       "True"
      ]
     },
     "execution_count": 9,
     "metadata": {},
     "output_type": "execute_result"
    }
   ],
   "source": [
    "def convert_xls(input_path, output_path):\n",
    "    try:\n",
    "        app = xw.App(visible=False)\n",
    "        wb = app.books.open(input_path)\n",
    "        \n",
    "        # Save the file as xlsx\n",
    "        wb.save(output_path)\n",
    "\n",
    "        # Close the workbook and quit Excel\n",
    "        wb.close()\n",
    "        app.quit()\n",
    "        return True\n",
    "    except:\n",
    "        return False\n",
    "    \n",
    "convert_xls('D:\\P.Truong\\Checking_Data\\TPTS_Project\\df_portal_order_check\\daily_xls\\DFP_FreshFood_Order_01_04_2024.xls',\\\n",
    "            'D:\\P.Truong\\Checking_Data\\TPTS_Project\\df_portal_order_check\\daily_xlsx\\DFP_FreshFood_Order_01_04_2024.xlsx')"
   ]
  },
  {
   "cell_type": "code",
   "execution_count": 6,
   "metadata": {},
   "outputs": [
    {
     "name": "stderr",
     "output_type": "stream",
     "text": [
      "c:\\Users\\Admin\\anaconda3\\lib\\site-packages\\pandas\\core\\arrays\\masked.py:60: UserWarning: Pandas requires version '1.3.6' or newer of 'bottleneck' (version '1.3.5' currently installed).\n",
      "  from pandas.core import (\n"
     ]
    }
   ],
   "source": [
    "import xlwings as xw\n",
    "\n",
    "# Read xls file then convert it into xlsx file\n",
    "def convert_xls(input_path, output_path):\n",
    "    try:\n",
    "        try:\n",
    "            app = xw.App(visible=False)\n",
    "            wb = app.books.open(input_path)\n",
    "        except:\n",
    "            print('Cannot open file')\n",
    "        # Save the file as xlsx\n",
    "        wb.save(output_path)\n",
    "\n",
    "        # Close the workbook and quit Excel\n",
    "        wb.close()\n",
    "        app.quit()\n",
    "        return True\n",
    "    except:\n",
    "        return False\n",
    "\n"
   ]
  },
  {
   "cell_type": "markdown",
   "metadata": {},
   "source": [
    "Đọc file và tiền xử lý, sau đó lưu vào df"
   ]
  },
  {
   "cell_type": "code",
   "execution_count": 3,
   "metadata": {},
   "outputs": [],
   "source": [
    "# Rewrite the header\n",
    "\"\"\"\"\n",
    "This function is used to transfrom the original dataframe with \n",
    "inapproriate columns name and structure.\n",
    "\n",
    "Input: raw df read from excel files. See excel files to explore the structure\n",
    "Output: df with columns that has been renamed, and\n",
    "\n",
    "\"\"\"\n",
    "def clean_df(df):\n",
    "    col_rename = df.loc[0].to_list()[:8]\n",
    "    for i, col in enumerate(df.columns):\n",
    "        if i == 8:\n",
    "            break\n",
    "        df.rename(columns={col: col_rename[i]},inplace=True)\n",
    "    df = df.drop(index=0)\n",
    "    df_melt = pd.melt(df, id_vars=df.columns[0:8], value_vars=df.columns[8:],\n",
    "                  var_name = 'Store', value_name='Order_Qty')\n",
    "    return df_melt\n"
   ]
  },
  {
   "cell_type": "markdown",
   "metadata": {},
   "source": [
    "Số SKU mỗi store đặt"
   ]
  },
  {
   "cell_type": "code",
   "execution_count": 4,
   "metadata": {},
   "outputs": [],
   "source": [
    "# df_melt.dropna(subset='Order_Qty')\n",
    "def store_group(df):\n",
    "    nSKU_by_Store = df.groupby(by='Store')['Order_Qty'].count().sort_values(ascending=False).reset_index()\n",
    "    stores_ordered_today = nSKU_by_Store[nSKU_by_Store['Order_Qty']>0]\n",
    "    stores_has_no_order = nSKU_by_Store[nSKU_by_Store['Order_Qty']==0]\n",
    "    return stores_ordered_today, stores_has_no_order"
   ]
  },
  {
   "cell_type": "markdown",
   "metadata": {},
   "source": [
    "Function to get order list of an input store"
   ]
  },
  {
   "cell_type": "code",
   "execution_count": 5,
   "metadata": {},
   "outputs": [],
   "source": [
    "def order_list(store,df):\n",
    "    return df[(df['Store'] == store) &\n",
    "                   (~df['Order_Qty'].isna())]"
   ]
  },
  {
   "cell_type": "markdown",
   "metadata": {},
   "source": [
    "Function of exporting a df to csv file"
   ]
  },
  {
   "cell_type": "code",
   "execution_count": 6,
   "metadata": {},
   "outputs": [],
   "source": [
    "def export_df(df, filename):\n",
    "    # today = datetime.now().strftime(format='%d-%m')\n",
    "    df.to_excel('output_files/' + filename + '.xlsx', index=False)"
   ]
  },
  {
   "cell_type": "code",
   "execution_count": 7,
   "metadata": {},
   "outputs": [],
   "source": [
    "def main(order_file_path = '', order_store = False, no_order_store = False, store_list = []):\n",
    "    date_string = (date.today() + timedelta(1)).strftime(format='%d_%m_%Y')\n",
    "    if order_file_path == '':\n",
    "        xls_filename = 'DFP_FreshFood_Order_' + date_string + '.xls'\n",
    "        # Get the path to today's downloaded xls file\n",
    "        xls_file_path = os.getcwd() + '\\\\daily_xls\\\\' + xls_filename\n",
    "        # Get the path to the intended output with xlsx extension:\n",
    "        xlsx_file_path = Path(os.getcwd() + '\\\\daily_xlsx\\\\' + xls_filename).with_suffix(\".xlsx\")\n",
    "    else:\n",
    "        xls_file_path = order_file_path\n",
    "        xlsx_file_path = str(xls_file_path).replace('xls','xlsx')\n",
    "\n",
    "    if not convert_xls(input_path=xls_file_path, output_path=xlsx_file_path):\n",
    "        print(xlsx_file_path)\n",
    "        print(xls_file_path)\n",
    "        print('Fail to convert xls file')\n",
    "        return\n",
    "    else:\n",
    "        df = clean_df(pd.read_excel(xlsx_file_path))\n",
    "        # date = str(xlsx_file_path)[-15:-5]\n",
    "        if order_store:\n",
    "            store_with_orders, store_without_orders = store_group(df)\n",
    "            export_df(store_with_orders, date_string + '_store_có_đặt')\n",
    "        if no_order_store:\n",
    "            store_with_orders, store_without_orders = store_group(df)\n",
    "            export_df(store_without_orders, date_string +'_store_không_đặt')\n",
    "        if store_list.__len__() != 0:\n",
    "            for store in store_list:\n",
    "                order_by_store = order_list(store, df)\n",
    "                export_df(order_by_store, date_string + '_' + str(store))"
   ]
  },
  {
   "cell_type": "code",
   "execution_count": 8,
   "metadata": {},
   "outputs": [],
   "source": [
    "\n",
    "main(no_order_store=True, order_store=True)"
   ]
  },
  {
   "cell_type": "code",
   "execution_count": 9,
   "metadata": {},
   "outputs": [],
   "source": [
    "# D:\\SGC\\TPTS_Project\\df_portal_order_check\\daily_xls\\DFP_FreshFood_Order_05_04_2024.xls"
   ]
  }
 ],
 "metadata": {
  "kernelspec": {
   "display_name": "base",
   "language": "python",
   "name": "python3"
  },
  "language_info": {
   "codemirror_mode": {
    "name": "ipython",
    "version": 3
   },
   "file_extension": ".py",
   "mimetype": "text/x-python",
   "name": "python",
   "nbconvert_exporter": "python",
   "pygments_lexer": "ipython3",
   "version": "3.11.5"
  }
 },
 "nbformat": 4,
 "nbformat_minor": 2
}
