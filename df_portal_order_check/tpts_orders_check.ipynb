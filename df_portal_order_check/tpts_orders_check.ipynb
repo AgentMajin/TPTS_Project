{
 "cells": [
  {
   "cell_type": "code",
   "execution_count": 1,
   "metadata": {},
   "outputs": [],
   "source": [
    "import pandas as pd\n",
    "import numpy as np\n",
    "from datetime import datetime\n",
    "import win32com.client as win32\n",
    "from pathlib import Path\n",
    "import os\n",
    "import xlwings as xw\n",
    "from datetime import date, timedelta\n"
   ]
  },
  {
   "cell_type": "markdown",
   "metadata": {},
   "source": [
    "Read xls file then convert it into xlsx file"
   ]
  },
  {
   "cell_type": "code",
   "execution_count": 2,
   "metadata": {},
   "outputs": [],
   "source": [
    "def convert_xls(input_path, output_path):\n",
    "    try:\n",
    "        app = xw.App(visible=False)\n",
    "        wb = app.books.open(input_path)\n",
    "        \n",
    "        # Save the file as xlsx\n",
    "        wb.save(output_path)\n",
    "\n",
    "        # Close the workbook and quit Excel\n",
    "        wb.close()\n",
    "        app.quit()\n",
    "        return True\n",
    "    except:\n",
    "        return False"
   ]
  },
  {
   "cell_type": "code",
   "execution_count": 6,
   "metadata": {},
   "outputs": [
    {
     "name": "stderr",
     "output_type": "stream",
     "text": [
      "c:\\Users\\Admin\\anaconda3\\lib\\site-packages\\pandas\\core\\arrays\\masked.py:60: UserWarning: Pandas requires version '1.3.6' or newer of 'bottleneck' (version '1.3.5' currently installed).\n",
      "  from pandas.core import (\n"
     ]
    }
   ],
   "source": [
    "import xlwings as xw\n",
    "\n",
    "# Read xls file then convert it into xlsx file\n",
    "def convert_xls(input_path, output_path):\n",
    "    try:\n",
    "        try:\n",
    "            app = xw.App(visible=False)\n",
    "            wb = app.books.open(input_path)\n",
    "        except:\n",
    "            print('Cannot open file')\n",
    "        # Save the file as xlsx\n",
    "        wb.save(output_path)\n",
    "\n",
    "        # Close the workbook and quit Excel\n",
    "        wb.close()\n",
    "        app.quit()\n",
    "        return True\n",
    "    except:\n",
    "        return False\n",
    "\n"
   ]
  },
  {
   "cell_type": "markdown",
   "metadata": {},
   "source": [
    "Đọc file và tiền xử lý, sau đó lưu vào df"
   ]
  },
  {
   "cell_type": "code",
   "execution_count": 3,
   "metadata": {},
   "outputs": [],
   "source": [
    "# Rewrite the header\n",
    "\"\"\"\"\n",
    "This function is used to transfrom the original dataframe with \n",
    "inapproriate columns name and structure.\n",
    "\n",
    "Input: raw df read from excel files. See excel files to explore the structure\n",
    "Output: df with columns that has been renamed, and\n",
    "\n",
    "\"\"\"\n",
    "def clean_df(df):\n",
    "    col_rename = df.loc[0].to_list()[:8]\n",
    "    for i, col in enumerate(df.columns):\n",
    "        if i == 8:\n",
    "            break\n",
    "        df.rename(columns={col: col_rename[i]},inplace=True)\n",
    "    df = df.drop(index=0)\n",
    "    df_melt = pd.melt(df, id_vars=df.columns[0:8], value_vars=df.columns[8:],\n",
    "                  var_name = 'Store', value_name='Order_Qty')\n",
    "    return df_melt\n"
   ]
  },
  {
   "cell_type": "markdown",
   "metadata": {},
   "source": [
    "Số SKU mỗi store đặt"
   ]
  },
  {
   "cell_type": "code",
   "execution_count": 4,
   "metadata": {},
   "outputs": [],
   "source": [
    "# df_melt.dropna(subset='Order_Qty')\n",
    "def store_group(df):\n",
    "    nSKU_by_Store = df.groupby(by='Store')['Order_Qty'].count().sort_values(ascending=False).reset_index()\n",
    "    stores_ordered_today = nSKU_by_Store[nSKU_by_Store['Order_Qty']>0]\n",
    "    stores_has_no_order = nSKU_by_Store[nSKU_by_Store['Order_Qty']==0]\n",
    "    return stores_ordered_today, stores_has_no_order"
   ]
  },
  {
   "cell_type": "markdown",
   "metadata": {},
   "source": [
    "Function to get order list of an input store"
   ]
  },
  {
   "cell_type": "code",
   "execution_count": 5,
   "metadata": {},
   "outputs": [],
   "source": [
    "def order_list(store,df):\n",
    "    return df[(df['Store'] == store) &\n",
    "                   (~df['Order_Qty'].isna())]"
   ]
  },
  {
   "cell_type": "markdown",
   "metadata": {},
   "source": [
    "Function of exporting a df to csv file"
   ]
  },
  {
   "cell_type": "code",
   "execution_count": 6,
   "metadata": {},
   "outputs": [],
   "source": [
    "def export_df(df, filename):\n",
    "    # today = datetime.now().strftime(format='%d-%m')\n",
    "    df.to_excel('output_files/' + filename + '.xlsx', index=False)"
   ]
  },
  {
   "cell_type": "code",
   "execution_count": 7,
   "metadata": {},
   "outputs": [],
   "source": [
    "def main(order_file_path = '', order_store = False, no_order_store = False, store_list = []):\n",
    "    date_string = (date.today() + timedelta(1)).strftime(format='%d_%m_%Y')\n",
    "    if order_file_path == '':\n",
    "        xls_filename = 'DFP_FreshFood_Order_' + date_string + '.xls'\n",
    "        # Get the path to today's downloaded xls file\n",
    "        xls_file_path = os.getcwd() + '\\\\daily_xls\\\\' + xls_filename\n",
    "        # Get the path to the intended output with xlsx extension:\n",
    "        xlsx_file_path = Path(os.getcwd() + '\\\\daily_xlsx\\\\' + xls_filename).with_suffix(\".xlsx\")\n",
    "    else:\n",
    "        xls_file_path = order_file_path\n",
    "        xlsx_file_path = str(xls_file_path).replace('xls','xlsx')\n",
    "\n",
    "    if not convert_xls(input_path=xls_file_path, output_path=xlsx_file_path):\n",
    "        print(xlsx_file_path)\n",
    "        print(xls_file_path)\n",
    "        print('Fail to convert xls file')\n",
    "        return\n",
    "    else:\n",
    "        df = clean_df(pd.read_excel(xlsx_file_path))\n",
    "        # date = str(xlsx_file_path)[-15:-5]\n",
    "        if order_store:\n",
    "            store_with_orders, store_without_orders = store_group(df)\n",
    "            export_df(store_with_orders, date_string + '_store_có_đặt')\n",
    "        if no_order_store:\n",
    "            store_with_orders, store_without_orders = store_group(df)\n",
    "            export_df(store_without_orders, date_string +'_store_không_đặt')\n",
    "        if store_list.__len__() != 0:\n",
    "            for store in store_list:\n",
    "                order_by_store = order_list(store, df)\n",
    "                export_df(order_by_store, date_string + '_' + str(store))"
   ]
  },
  {
   "cell_type": "code",
   "execution_count": 8,
   "metadata": {},
   "outputs": [],
   "source": [
    "\n",
    "main(no_order_store=True, order_store=True)"
   ]
  },
  {
   "cell_type": "code",
   "execution_count": 9,
   "metadata": {},
   "outputs": [],
   "source": [
    "# D:\\SGC\\TPTS_Project\\df_portal_order_check\\daily_xls\\DFP_FreshFood_Order_05_04_2024.xls"
   ]
  }
 ],
 "metadata": {
  "kernelspec": {
   "display_name": "base",
   "language": "python",
   "name": "python3"
  },
  "language_info": {
   "codemirror_mode": {
    "name": "ipython",
    "version": 3
   },
   "file_extension": ".py",
   "mimetype": "text/x-python",
   "name": "python",
   "nbconvert_exporter": "python",
   "pygments_lexer": "ipython3",
   "version": "3.10.9"
  }
 },
 "nbformat": 4,
 "nbformat_minor": 2
}
