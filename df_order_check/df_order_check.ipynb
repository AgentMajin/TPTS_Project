{
 "cells": [
  {
   "cell_type": "code",
   "execution_count": 94,
   "metadata": {},
   "outputs": [],
   "source": [
    "import pandas as pd\n",
    "import numpy as np\n",
    "import os"
   ]
  },
  {
   "cell_type": "code",
   "execution_count": 95,
   "metadata": {},
   "outputs": [],
   "source": [
    "# Đọc các master file\n",
    "\n",
    "try:\n",
    "    master_data_dir = 'D:\\SGC\\TPTS_Project\\master_data'\n",
    "    # Danh sách store Active theo MMS\n",
    "    mms_active_store = pd.read_excel(master_data_dir + '\\MMS_Store_Active.xlsx')\n",
    "\n",
    "    # Bảng Location D&F\n",
    "    df_loc = pd.read_csv(master_data_dir + '\\DF_All_Loc.csv',encoding='iso-8859-1')\n",
    "\n",
    "    # Danh sách store theo CBNC-PKD\n",
    "    pkd_store = pd.read_excel(master_data_dir + '\\Store_CBNC.xlsx')\n",
    "\n",
    "    # Danh mục SKU theo từng nhóm CF\n",
    "    dm_cf_sku = pd.read_excel(master_data_dir + '\\Danh_muc_CBNC_CF.xlsx', header=1)\n",
    "\n",
    "    # Danh sách CF theo từng nhóm\n",
    "    dm_cf_store_group =pd.read_excel(master_data_dir + '\\Danh_muc_CBNC_CF.xlsx', sheet_name='2. Group DS CF')\n",
    "    \n",
    "except:\n",
    "    print('Error in reading files')\n"
   ]
  },
  {
   "cell_type": "code",
   "execution_count": 96,
   "metadata": {},
   "outputs": [],
   "source": [
    "dm_cf_sku = dm_cf_sku[~dm_cf_sku['SKU'].isin([3571173,3571174,3322308, 3322309])]"
   ]
  },
  {
   "cell_type": "code",
   "execution_count": 97,
   "metadata": {},
   "outputs": [],
   "source": [
    "# Đọc các master file cần thiết\n",
    "def get_store_list(store_list = 'PKD', export_check_store=False):\n",
    "    \"\"\" \n",
    "    Hàm có chức năng sử dụng Pandas để đọc các master data file có trong folder master_data, đồng thời filter theo mục đích của từng bảng.\n",
    "\n",
    "    Input: \n",
    "        - Tùy chọn export_check_store, True nếu cần xuất file store active nhưng không có trong list PKD gửi, False nếu không cần\n",
    "        - Tùy chọn danh sách muốn lấy, nếu 'PKD' thì list được return sẽ là danh sách store theo PKD, nếu 'DF' thì list được return sẽ là danh sách store theo D&F.\n",
    "    Output: D\n",
    "    \"\"\"\n",
    "\n",
    "    # Lọc bảng Location để chỉ lấy ID các store và còn hoạt động\n",
    "    df_store = df_loc[(df_loc['HIERARCHYLEVEL']=='STORE') &\n",
    "                    (df_loc['UDC_Delete'] == False)]\n",
    "    \n",
    "    # Lọc bảng Location 1 lần nữa theo danh sách MMS Store Active để đảm bảo loại hoàn toàn Store không còn hoạt động\n",
    "    df_store_active = df_store[(df_store['*Loc'].isin(mms_active_store['Store Number'].astype('str')))]\n",
    "    # df_store_active = df_store\n",
    "\n",
    "    # Xuất file gồm các store đang active nhưng không có trong danh sách của PKD\n",
    "    if export_check_store:\n",
    "        df_store_active[~df_store_active['*Loc'].isin(pkd_store['Store Id'].astype('str'))].to_csv('output-files/store_to_check.csv')\n",
    "    \n",
    "    if store_list == 'DF':\n",
    "        return df_store_active['*Loc'].astype('str').tolist()\n",
    "    elif store_list == 'PKD':\n",
    "        return pkd_store['Store Id'].astype('str').tolist()\n",
    "    else:\n",
    "        print(f\"Không có danh sách store nào theo {store_list}\")\n",
    "        return None"
   ]
  },
  {
   "cell_type": "code",
   "execution_count": 98,
   "metadata": {},
   "outputs": [
    {
     "data": {
      "text/plain": [
       "array(['12701', '2173', '56202', '6901101', '6902001', '799', '9110',\n",
       "       '9116', '9130', '9153'], dtype='<U7')"
      ]
     },
     "execution_count": 98,
     "metadata": {},
     "output_type": "execute_result"
    }
   ],
   "source": [
    "pkd_list = get_store_list('PKD')\n",
    "df_list = get_store_list('DF')\n",
    "store_list = [x for x in pkd_list if x in df_list]\n",
    "np.setdiff1d(pkd_list, df_list)"
   ]
  },
  {
   "cell_type": "markdown",
   "metadata": {},
   "source": [
    "Trong thời điểm hiện tại, vẫn sử dụng danh mục store chính là danh mục PKD gửi"
   ]
  },
  {
   "cell_type": "code",
   "execution_count": 99,
   "metadata": {},
   "outputs": [
    {
     "data": {
      "text/html": [
       "<div>\n",
       "<style scoped>\n",
       "    .dataframe tbody tr th:only-of-type {\n",
       "        vertical-align: middle;\n",
       "    }\n",
       "\n",
       "    .dataframe tbody tr th {\n",
       "        vertical-align: top;\n",
       "    }\n",
       "\n",
       "    .dataframe thead th {\n",
       "        text-align: right;\n",
       "    }\n",
       "</style>\n",
       "<table border=\"1\" class=\"dataframe\">\n",
       "  <thead>\n",
       "    <tr style=\"text-align: right;\">\n",
       "      <th></th>\n",
       "      <th>*LOADID</th>\n",
       "      <th>*ITEM</th>\n",
       "      <th>*SOURCE</th>\n",
       "      <th>*DEST</th>\n",
       "      <th>QTY</th>\n",
       "      <th>SHIP_DATE</th>\n",
       "      <th>ARRIVAL_DATE</th>\n",
       "      <th>STT_NCC</th>\n",
       "      <th>STT_SKU</th>\n",
       "      <th>UDC_DAY</th>\n",
       "      <th>UDC_NOTE</th>\n",
       "      <th>UDC_TIME</th>\n",
       "      <th>UNITPRICE</th>\n",
       "    </tr>\n",
       "  </thead>\n",
       "  <tbody>\n",
       "    <tr>\n",
       "      <th>0</th>\n",
       "      <td>8760364</td>\n",
       "      <td>3001608</td>\n",
       "      <td>10324</td>\n",
       "      <td>174</td>\n",
       "      <td>NaN</td>\n",
       "      <td>4/13/24</td>\n",
       "      <td>4/14/24</td>\n",
       "      <td>NaN</td>\n",
       "      <td>45.0</td>\n",
       "      <td>1D</td>\n",
       "      <td>NaN</td>\n",
       "      <td>11:15</td>\n",
       "      <td>73,000.000</td>\n",
       "    </tr>\n",
       "    <tr>\n",
       "      <th>1</th>\n",
       "      <td>8760364</td>\n",
       "      <td>3001614</td>\n",
       "      <td>10324</td>\n",
       "      <td>174</td>\n",
       "      <td>NaN</td>\n",
       "      <td>4/13/24</td>\n",
       "      <td>4/14/24</td>\n",
       "      <td>NaN</td>\n",
       "      <td>44.0</td>\n",
       "      <td>1D</td>\n",
       "      <td>NaN</td>\n",
       "      <td>11:15</td>\n",
       "      <td>144,000.000</td>\n",
       "    </tr>\n",
       "    <tr>\n",
       "      <th>2</th>\n",
       "      <td>8760364</td>\n",
       "      <td>3065918</td>\n",
       "      <td>10324</td>\n",
       "      <td>174</td>\n",
       "      <td>NaN</td>\n",
       "      <td>4/13/24</td>\n",
       "      <td>4/14/24</td>\n",
       "      <td>NaN</td>\n",
       "      <td>71.0</td>\n",
       "      <td>1D</td>\n",
       "      <td>NaN</td>\n",
       "      <td>11:15</td>\n",
       "      <td>244,200.000</td>\n",
       "    </tr>\n",
       "    <tr>\n",
       "      <th>3</th>\n",
       "      <td>8760364</td>\n",
       "      <td>3065920</td>\n",
       "      <td>10324</td>\n",
       "      <td>174</td>\n",
       "      <td>NaN</td>\n",
       "      <td>4/13/24</td>\n",
       "      <td>4/14/24</td>\n",
       "      <td>NaN</td>\n",
       "      <td>46.0</td>\n",
       "      <td>1D</td>\n",
       "      <td>NaN</td>\n",
       "      <td>11:15</td>\n",
       "      <td>244,200.000</td>\n",
       "    </tr>\n",
       "    <tr>\n",
       "      <th>4</th>\n",
       "      <td>8760364</td>\n",
       "      <td>3371966</td>\n",
       "      <td>10324</td>\n",
       "      <td>174</td>\n",
       "      <td>NaN</td>\n",
       "      <td>4/13/24</td>\n",
       "      <td>4/14/24</td>\n",
       "      <td>NaN</td>\n",
       "      <td>47.0</td>\n",
       "      <td>1D</td>\n",
       "      <td>NaN</td>\n",
       "      <td>11:15</td>\n",
       "      <td>214,000.000</td>\n",
       "    </tr>\n",
       "  </tbody>\n",
       "</table>\n",
       "</div>"
      ],
      "text/plain": [
       "   *LOADID    *ITEM  *SOURCE  *DEST  QTY SHIP_DATE ARRIVAL_DATE  STT_NCC  \\\n",
       "0  8760364  3001608    10324    174  NaN   4/13/24      4/14/24      NaN   \n",
       "1  8760364  3001614    10324    174  NaN   4/13/24      4/14/24      NaN   \n",
       "2  8760364  3065918    10324    174  NaN   4/13/24      4/14/24      NaN   \n",
       "3  8760364  3065920    10324    174  NaN   4/13/24      4/14/24      NaN   \n",
       "4  8760364  3371966    10324    174  NaN   4/13/24      4/14/24      NaN   \n",
       "\n",
       "   STT_SKU UDC_DAY  UDC_NOTE UDC_TIME    UNITPRICE  \n",
       "0     45.0      1D       NaN    11:15   73,000.000  \n",
       "1     44.0      1D       NaN    11:15  144,000.000  \n",
       "2     71.0      1D       NaN    11:15  244,200.000  \n",
       "3     46.0      1D       NaN    11:15  244,200.000  \n",
       "4     47.0      1D       NaN    11:15  214,000.000  "
      ]
     },
     "execution_count": 99,
     "metadata": {},
     "output_type": "execute_result"
    }
   ],
   "source": [
    "# Đọc file order ngày hiện tại\n",
    "orders = pd.read_csv('input-orders/orders_14-4-2024.csv', encoding='iso-8859-1')\n",
    "orders= orders[orders['ARRIVAL_DATE'] == '4/14/24']\n",
    "orders.head()"
   ]
  },
  {
   "cell_type": "markdown",
   "metadata": {},
   "source": [
    "Ok giờ kiểm tra xem orders:\n",
    "- Có đầy đủ store chưa? Nếu thiếu thì thiếu store nào liệt kê ra\n",
    "- Mỗi store có bao nhiêu SKU?"
   ]
  },
  {
   "cell_type": "code",
   "execution_count": 100,
   "metadata": {},
   "outputs": [],
   "source": [
    "count_of_store = orders['*DEST'].nunique()\n",
    "count_of_missing_store = len(np.setdiff1d(np.array(store_list), orders['*DEST'].unique()))\n",
    "count_of_redundant_store = len(np.setdiff1d(orders['*DEST'].unique(),np.array(store_list)))\n"
   ]
  },
  {
   "cell_type": "code",
   "execution_count": 101,
   "metadata": {},
   "outputs": [
    {
     "name": "stdout",
     "output_type": "stream",
     "text": [
      "No missing store\n"
     ]
    }
   ],
   "source": [
    "if count_of_missing_store == 0:\n",
    "    print('No missing store')\n",
    "else:\n",
    "    print(np.setdiff1d(orders['*DEST'].unique(),np.array(store_list)))"
   ]
  },
  {
   "cell_type": "code",
   "execution_count": 102,
   "metadata": {},
   "outputs": [
    {
     "name": "stdout",
     "output_type": "stream",
     "text": [
      "[ 9110  9116  9130  9153 12701 56202 69011 69020]\n"
     ]
    }
   ],
   "source": [
    "if count_of_redundant_store == 0:\n",
    "    print('No redundant store')\n",
    "else:\n",
    "    print(np.setdiff1d(orders['*DEST'].unique(),np.array(store_list)))"
   ]
  },
  {
   "cell_type": "code",
   "execution_count": 103,
   "metadata": {},
   "outputs": [
    {
     "data": {
      "text/plain": [
       "array([437, 171, 162,  66, 118, 388], dtype=int64)"
      ]
     },
     "execution_count": 103,
     "metadata": {},
     "output_type": "execute_result"
    }
   ],
   "source": [
    "count = orders.groupby(by='*DEST')['*ITEM'].count()\n",
    "count.unique()"
   ]
  },
  {
   "cell_type": "code",
   "execution_count": 104,
   "metadata": {},
   "outputs": [],
   "source": [
    "report_df = pd.DataFrame(columns=['Store','SL SKU có trong Order','Nhóm Store','SL SKU của Nhóm Store', 'SL SKU Thiếu','SL SKU Thừa', 'SKU Thiếu', 'SKU Thừa'])\n",
    "\n",
    "\n",
    "sku_list_each_group = {}\n",
    "for store_group in dm_cf_store_group['NHOM DS'].unique():\n",
    "    sku_list_each_group[store_group] = dm_cf_sku[~dm_cf_sku[store_group].isna()]['SKU'].tolist()\n",
    "sku_list_each_group['No Group'] = pd.read_csv(master_data_dir + '\\TPTS_All_Items.csv')['*Item'].tolist()\n",
    "\n",
    "\n",
    "for store in orders['*DEST'].unique():\n",
    "    # Get group of store\n",
    "    group_of_store = dm_cf_store_group.loc[dm_cf_store_group['Mã ST']==store,'NHOM DS'].tolist()\n",
    "    if not len(group_of_store) == 0:\n",
    "        group_of_store = group_of_store[0]\n",
    "    else:\n",
    "        group_of_store = 'No Group'\n",
    "    \n",
    "    # Danh sách SKU của store có trong order\n",
    "    sku_list_of_store = orders[orders['*DEST']==store]['*ITEM']\n",
    "    # Danh sách SKU của nhóm store\n",
    "    sku_list_of_group = sku_list_each_group[group_of_store]\n",
    "    # Số lượng SKU có trong order mà không thuộc nhóm store này\n",
    "    count_of_redundant_sku = len(np.setdiff1d(sku_list_of_store, sku_list_of_group))\n",
    "    # Số lượng SKU có trong nhóm store nhưng không có trong order\n",
    "    count_of_missing_sku = len(np.setdiff1d(sku_list_of_group, sku_list_of_store))\n",
    "\n",
    "    report_df = pd.concat([report_df, pd.DataFrame([{'Store': store,\n",
    "                     'SL SKU có trong Order': len(sku_list_of_store),\n",
    "                     'Nhóm Store': group_of_store,\n",
    "                     'SL SKU của Nhóm Store': len(sku_list_of_group),\n",
    "                    'SL SKU Thiếu': count_of_missing_sku,\n",
    "                    'SL SKU Thừa': count_of_redundant_sku,\n",
    "                    'SKU Thiếu': np.setdiff1d(sku_list_of_group, sku_list_of_store),\n",
    "                    'SKU Thừa': np.setdiff1d(sku_list_of_store, sku_list_of_group)}])],ignore_index=True,\n",
    ")\n"
   ]
  },
  {
   "cell_type": "code",
   "execution_count": 106,
   "metadata": {},
   "outputs": [],
   "source": [
    "report_df.to_excel('output-files/df_orders_12-4.xlsx',index=False)"
   ]
  },
  {
   "cell_type": "code",
   "execution_count": 107,
   "metadata": {},
   "outputs": [],
   "source": [
    "\n",
    "portal_order = pd.read_excel('D:\\SGC\\TPTS_Project\\df_portal_order_check\\daily_xlsx\\DFP_FreshFood_Order_08_04_2024.xlsx')\n",
    "def clean_df(df):\n",
    "    col_rename = df.loc[0].to_list()[:8]\n",
    "    for i, col in enumerate(df.columns):\n",
    "        if i == 8:\n",
    "            break\n",
    "        df.rename(columns={col: col_rename[i]},inplace=True)\n",
    "    df = df.drop(index=0)\n",
    "    df_melt = pd.melt(df, id_vars=df.columns[0:8], value_vars=df.columns[8:],\n",
    "                  var_name = 'Store', value_name='Order_Qty')\n",
    "    return df_melt\n",
    "portal_order = clean_df(portal_order)\n",
    "\n",
    "\n",
    "report_df_portal = pd.DataFrame(columns=['Store', 'SL SKU Đặt', 'Nhóm Store','SL SKU Sai'])\n",
    "\n",
    "\n",
    "sku_list_each_group = {}\n",
    "for store_group in dm_cf_store_group['NHOM DS'].unique():\n",
    "    sku_list_each_group[store_group] = dm_cf_sku[~dm_cf_sku[store_group].isna()]['SKU'].tolist()\n",
    "sku_list_each_group['No Group'] = pd.read_csv(master_data_dir + '\\TPTS_All_Items.csv')['*Item'].tolist()\n",
    "\n",
    "for store in portal_order['Store'].unique():\n",
    "    # Get group of store\n",
    "    group_of_store = dm_cf_store_group.loc[dm_cf_store_group['Mã ST']==store,'NHOM DS'].tolist()\n",
    "    if not len(group_of_store) == 0:\n",
    "        group_of_store = group_of_store[0]\n",
    "    else:\n",
    "        group_of_store = 'No Group'\n",
    "    \n",
    "    # Danh sách SKU của store có trong order\n",
    "    sku_list_of_store = portal_order[(portal_order['Store']==store)&\n",
    "                                     (~portal_order['Order_Qty'].isna())]['SKU']\n",
    "    # Danh sách SKU của nhóm store\n",
    "    sku_list_of_group = sku_list_each_group[group_of_store]\n",
    "    # Số lượng SKU có trong order mà không thuộc nhóm store này\n",
    "    count_of_wrong_sku = len(np.setdiff1d(sku_list_of_store, sku_list_of_group))\n",
    "    # Danh sach SKU sai\n",
    "    list_of_wrong_sku = np.setdiff1d(sku_list_of_store, sku_list_of_group)\n",
    "    report_df_portal = pd.concat([report_df_portal, pd.DataFrame([{'Store': store,\n",
    "                     'SL SKU Đặt': len(sku_list_of_store),\n",
    "                     'Nhóm Store': group_of_store,\n",
    "                     'SL SKU Sai': count_of_wrong_sku,\n",
    "                     'DS SKU Sai': list_of_wrong_sku}])],ignore_index=True)\n",
    "    \n",
    "report_df_portal[report_df_portal['SL SKU Sai']!=0].to_excel('output-files/check-wrong-sku.xlsx')"
   ]
  },
  {
   "cell_type": "code",
   "execution_count": null,
   "metadata": {},
   "outputs": [],
   "source": []
  }
 ],
 "metadata": {
  "kernelspec": {
   "display_name": "base",
   "language": "python",
   "name": "python3"
  },
  "language_info": {
   "codemirror_mode": {
    "name": "ipython",
    "version": 3
   },
   "file_extension": ".py",
   "mimetype": "text/x-python",
   "name": "python",
   "nbconvert_exporter": "python",
   "pygments_lexer": "ipython3",
   "version": "3.11.5"
  }
 },
 "nbformat": 4,
 "nbformat_minor": 2
}
