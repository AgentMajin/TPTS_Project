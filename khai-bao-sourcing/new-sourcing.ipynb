{
 "cells": [
  {
   "cell_type": "code",
   "execution_count": 59,
   "metadata": {},
   "outputs": [],
   "source": [
    "import pandas as pd\n",
    "import numpy as np\n",
    "import os"
   ]
  },
  {
   "cell_type": "code",
   "execution_count": 60,
   "metadata": {},
   "outputs": [],
   "source": [
    "def get_sample_df(sample_file):\n",
    "    sample = pd.read_csv(sample_file, encoding='iso-8859-1', nrows=1)\n",
    "    return pd.DataFrame(columns=sample.columns)"
   ]
  },
  {
   "cell_type": "code",
   "execution_count": 61,
   "metadata": {},
   "outputs": [],
   "source": [
    "# Chuẩn bị thông tin cho việc khai báo\n",
    "\n",
    "# Thông tin quy cách theo từng cặp SKU-Store\n",
    "def prepare_minor(file_dir, sheet_name):\n",
    "    \"\"\"\n",
    "    This function is designed to read the sheet containing packing information of each SKU at each store, then clean and transform it into\n",
    "    a dataframe which has the structure of keys.\n",
    "    \n",
    "    Input: \n",
    "        - The path of of the xlsx template files \n",
    "        - Sheet name containing information of packing quantity per piece.\n",
    "    \n",
    "    Output: Dataframe of packing information, primary key = (SKu + Store)\n",
    "\n",
    "    \"\"\"\n",
    "    quy_cach = pd.read_excel(file_dir,sheet_name= sheet_name,header=2)\n",
    "    col_rename = quy_cach.loc[0].to_list()[:3]\n",
    "    for i, col in enumerate(quy_cach.columns):\n",
    "        if i == 3:\n",
    "            break\n",
    "        quy_cach.rename(columns={col: col_rename[i]},inplace=True)\n",
    "    quy_cach.drop(index=0, columns=['Unnamed: 3', 'STORE'],inplace=True)\n",
    "\n",
    "    quy_cach_melt = pd.melt(quy_cach, id_vars=quy_cach.columns[:3], \n",
    "                            value_vars = quy_cach.columns[3:],\n",
    "                            var_name='Store',\n",
    "                            value_name='Quy Cach')\n",
    "    return quy_cach_melt\n",
    "quy_cach = prepare_minor(\"FFS_Template (R).xlsx\", sheet_name='Sheet1')\n",
    "quy_cach = quy_cach[~quy_cach['Store'].isin([2173,799])]\n",
    "\n",
    "# Thông tin chung của SKU\n",
    "def prepare_sku_infor(file_dir, sheet_name):\n",
    "    sku_infor = pd.read_excel(\"FFS_Template (R).xlsx\", sheet_name='Danh mục sku')\n",
    "    for col in sku_infor.columns:\n",
    "        sku_infor.rename(columns={col: str(col).replace('\\n','')},inplace=True)\n",
    "    return sku_infor.iloc[:,:6]\n",
    "sku_infor = prepare_sku_infor(\"FFS_Template (R).xlsx\", sheet_name='Danh mục sku')\n",
    "\n",
    "# Thông tin network\n",
    "def prepare_network(file_dir, sheet_name):\n",
    "    network = pd.read_excel(file_dir, sheet_name= sheet_name)\n",
    "    network.rename(columns={'thời gian yêu cầu có đơn hàng trước\\nmấy ngày.3': 'LeadTime',\n",
    "                            'thời gian lock.4': 'LockTime'},inplace=True)\n",
    "    return network[['Store','LeadTime','LockTime']].drop(index=0)\n",
    "network_infor = prepare_network(\"FFS_Template (R).xlsx\", 'Sheet2')\n",
    "\n",
    "# Dữ liệu Item đã khai báo trên D&F\n",
    "item_traicay = pd.read_csv('item_traicay.csv', encoding='iso-8859-1')\n",
    "\n",
    "# Dữ liệu Loc đã khai báo trên D&F\n",
    "all_loc = pd.read_csv('DF_All_Loc.csv', encoding='iso-8859-1')"
   ]
  },
  {
   "cell_type": "code",
   "execution_count": 62,
   "metadata": {},
   "outputs": [],
   "source": [
    "df_khai_bao = get_sample_df('sourcing_sample.csv')\n",
    "\n",
    "\n",
    "# Xác định các cặp *Item *Dest từ file quy cách\n",
    "df_khai_bao['*Item'] = quy_cach['SKU']\n",
    "df_khai_bao['*Vendor'] = quy_cach['Mã NCC']\n",
    "df_khai_bao['*Dest'] = quy_cach['Store']\n",
    "df_khai_bao['QC Dong Goi lam tron'] = quy_cach['Quy Cach']\n",
    "df_khai_bao['QC Dong Goi toi thieu'] = quy_cach['Quy Cach']\n",
    "\n",
    "# Xác định các thông tin liên quan đến SKU\n",
    "df_khai_bao['UDC_SEQ_ITEM'] =  pd.merge(df_khai_bao[['*Item']], sku_infor[['Mã SKU','Số thứ tự SKU theo NCC']], \n",
    "                                                            how='left', \n",
    "                                                            left_on='*Item',\n",
    "                                                            right_on='Mã SKU')['Số thứ tự SKU theo NCC'].tolist()\n",
    "df_khai_bao['UDC_SEQ_VENDOR'] =  pd.merge(df_khai_bao[['*Item']], sku_infor[['Mã SKU','Số thứ tự NCC trên đơn hàng']], \n",
    "                                                            how='left', \n",
    "                                                            left_on='*Item',\n",
    "                                                            right_on='Mã SKU')['Số thứ tự NCC trên đơn hàng'].tolist()\n",
    "\n",
    "# Xác định các thông tin liên quan đến network\n",
    "df_khai_bao['TransLeadTime'] = pd.merge(df_khai_bao[['*Dest']], network_infor[['Store','LeadTime']], \n",
    "                                                            how='left', \n",
    "                                                            left_on='*Dest',\n",
    "                                                            right_on='Store')['LeadTime'].tolist()\n",
    "\n",
    "# Thông số mặc định\n",
    "df_khai_bao['UDC_TPTS_LOCK'].fillna('FALSE',inplace=True) \n",
    "df_khai_bao['ONOFF'].fillna('FALSE',inplace=True) "
   ]
  },
  {
   "cell_type": "code",
   "execution_count": 63,
   "metadata": {},
   "outputs": [],
   "source": [
    "df_khai_bao.rename(columns={'Descr.1': 'Descr'}).to_csv('sourcing_trai-cay_080424.csv', index=False)"
   ]
  },
  {
   "cell_type": "code",
   "execution_count": null,
   "metadata": {},
   "outputs": [],
   "source": []
  }
 ],
 "metadata": {
  "kernelspec": {
   "display_name": "base",
   "language": "python",
   "name": "python3"
  },
  "language_info": {
   "codemirror_mode": {
    "name": "ipython",
    "version": 3
   },
   "file_extension": ".py",
   "mimetype": "text/x-python",
   "name": "python",
   "nbconvert_exporter": "python",
   "pygments_lexer": "ipython3",
   "version": "3.11.5"
  }
 },
 "nbformat": 4,
 "nbformat_minor": 2
}
